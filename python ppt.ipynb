{
 "cells": [
  {
   "cell_type": "code",
   "execution_count": 1,
   "id": "4cfc91c5",
   "metadata": {},
   "outputs": [],
   "source": [
    "from pptx import Presentation\n",
    "from pptx.util import Inches\n",
    "\n",
    "prs = Presentation()"
   ]
  },
  {
   "cell_type": "markdown",
   "id": "986bb65f",
   "metadata": {},
   "source": [
    "# 제목"
   ]
  },
  {
   "cell_type": "code",
   "execution_count": 2,
   "id": "b24e5e6d",
   "metadata": {},
   "outputs": [],
   "source": [
    "title_slide_layout = prs.slide_layouts[0] # 0 : 제목"
   ]
  },
  {
   "cell_type": "code",
   "execution_count": 3,
   "id": "76ed9bdd",
   "metadata": {},
   "outputs": [],
   "source": [
    "slide = prs.slides.add_slide(title_slide_layout)"
   ]
  },
  {
   "cell_type": "code",
   "execution_count": 4,
   "id": "ce3f39f1",
   "metadata": {},
   "outputs": [],
   "source": [
    "slide.shapes.title.text = \"제목입니다.\""
   ]
  },
  {
   "cell_type": "code",
   "execution_count": 5,
   "id": "929ac123",
   "metadata": {},
   "outputs": [],
   "source": [
    "slide.placeholders[1].text = '부제목입니다.' # 1: 부제목"
   ]
  },
  {
   "cell_type": "code",
   "execution_count": 6,
   "id": "0d49bbb5",
   "metadata": {},
   "outputs": [],
   "source": [
    "prs.save('test.pptx')"
   ]
  },
  {
   "cell_type": "markdown",
   "id": "559b0a7c",
   "metadata": {},
   "source": [
    "# 제목 & 내용"
   ]
  },
  {
   "cell_type": "code",
   "execution_count": 7,
   "id": "490cc852",
   "metadata": {},
   "outputs": [],
   "source": [
    "bullet_slide_layout = prs.slide_layouts[1]"
   ]
  },
  {
   "cell_type": "code",
   "execution_count": 8,
   "id": "cb481f65",
   "metadata": {},
   "outputs": [],
   "source": [
    "slide = prs.slides.add_slide(bullet_slide_layout)"
   ]
  },
  {
   "cell_type": "code",
   "execution_count": 9,
   "id": "979e2664",
   "metadata": {},
   "outputs": [],
   "source": [
    "shapes = slide.shapes"
   ]
  },
  {
   "cell_type": "code",
   "execution_count": 10,
   "id": "6a3b7eb0",
   "metadata": {},
   "outputs": [],
   "source": [
    "title_shape = shapes.title\n",
    "body_shape = shapes.placeholders[1]"
   ]
  },
  {
   "cell_type": "code",
   "execution_count": 11,
   "id": "5f05f69d",
   "metadata": {},
   "outputs": [],
   "source": [
    "title_shape.text = '2번째 제목'"
   ]
  },
  {
   "cell_type": "code",
   "execution_count": 12,
   "id": "4fbfa254",
   "metadata": {},
   "outputs": [],
   "source": [
    "tf = body_shape.text_frame\n",
    "tf.text = \"2번째 부제목\""
   ]
  },
  {
   "cell_type": "code",
   "execution_count": 14,
   "id": "255056a0",
   "metadata": {},
   "outputs": [],
   "source": [
    "p = tf.add_paragraph()\n",
    "p.text = \"1 내용이 없습니다.\"\n",
    "p.level = 1"
   ]
  },
  {
   "cell_type": "code",
   "execution_count": 15,
   "id": "d3592f81",
   "metadata": {},
   "outputs": [],
   "source": [
    "p = tf.add_paragraph()\n",
    "p.text = \"1 - 2내용이 없습니다.\"\n",
    "p.level = 2"
   ]
  },
  {
   "cell_type": "code",
   "execution_count": 18,
   "id": "5d89fb8c",
   "metadata": {},
   "outputs": [],
   "source": [
    "prs.save('test.pptx')"
   ]
  },
  {
   "cell_type": "markdown",
   "id": "dea8ced9",
   "metadata": {},
   "source": [
    "# 사진 슬라이드"
   ]
  },
  {
   "cell_type": "code",
   "execution_count": 19,
   "id": "798389f2",
   "metadata": {},
   "outputs": [],
   "source": [
    "img_path = '카카오.png'"
   ]
  },
  {
   "cell_type": "code",
   "execution_count": 20,
   "id": "ff35508f",
   "metadata": {},
   "outputs": [],
   "source": [
    "blank_slide_layout = prs.slide_layouts[6] # 6: 제목/내용없는 슬라이드\n",
    "slide = prs.slides.add_slide(blank_slide_layout)"
   ]
  },
  {
   "cell_type": "code",
   "execution_count": 21,
   "id": "50c539a8",
   "metadata": {},
   "outputs": [],
   "source": [
    "left = top = Inches(1)\n",
    "pic = slide.shapes.add_picture(img_path, left, top)"
   ]
  },
  {
   "cell_type": "code",
   "execution_count": 23,
   "id": "acdbb037",
   "metadata": {},
   "outputs": [],
   "source": [
    "left = Inches(5)\n",
    "height = Inches(5.5)\n",
    "pic = slide.shapes.add_picture(img_path, left, top, height=height)\n",
    "\n",
    "prs.save('test.pptx')"
   ]
  },
  {
   "cell_type": "markdown",
   "id": "db504aa5",
   "metadata": {},
   "source": [
    "# 표"
   ]
  },
  {
   "cell_type": "code",
   "execution_count": 24,
   "id": "08a437b7",
   "metadata": {},
   "outputs": [],
   "source": [
    "title_only_slide_layout = prs.slide_layouts[5] # 제목만\n",
    "slide = prs.slides.add_slide(title_only_slide_layout)\n",
    "shapes = slide.shapes"
   ]
  },
  {
   "cell_type": "code",
   "execution_count": 26,
   "id": "c0170de7",
   "metadata": {},
   "outputs": [],
   "source": [
    "shapes.title.text = 'Add table'"
   ]
  },
  {
   "cell_type": "code",
   "execution_count": 27,
   "id": "674d92db",
   "metadata": {},
   "outputs": [],
   "source": [
    "rows = cols = 2\n",
    "left = top = Inches(2.0)\n",
    "width = Inches(6.0)\n",
    "height = Inches(0.8)"
   ]
  },
  {
   "cell_type": "code",
   "execution_count": 28,
   "id": "aed8688f",
   "metadata": {},
   "outputs": [],
   "source": [
    "table = shapes.add_table(rows, cols, left, top, width, height).table"
   ]
  },
  {
   "cell_type": "code",
   "execution_count": 29,
   "id": "13e8c5f0",
   "metadata": {},
   "outputs": [],
   "source": [
    "table.columns[0].width = Inches(2.0)\n",
    "table.columns[1].width = Inches(4.0)"
   ]
  },
  {
   "cell_type": "code",
   "execution_count": 30,
   "id": "0e480dfa",
   "metadata": {},
   "outputs": [],
   "source": [
    "table.cell(0, 0).text = '(0, 0)'\n",
    "table.cell(0, 1).text = '(0, 1)'"
   ]
  },
  {
   "cell_type": "code",
   "execution_count": 31,
   "id": "15d791f4",
   "metadata": {},
   "outputs": [],
   "source": [
    "table.cell(1, 0).text = '(1, 0)'\n",
    "table.cell(1, 1).text = '(1, 1)'"
   ]
  },
  {
   "cell_type": "code",
   "execution_count": 32,
   "id": "93d0606b",
   "metadata": {},
   "outputs": [],
   "source": [
    "prs.save('test.pptx')"
   ]
  },
  {
   "cell_type": "markdown",
   "id": "21baeee3",
   "metadata": {},
   "source": []
  }
 ],
 "metadata": {
  "kernelspec": {
   "display_name": "Python 3 (ipykernel)",
   "language": "python",
   "name": "python3"
  },
  "language_info": {
   "codemirror_mode": {
    "name": "ipython",
    "version": 3
   },
   "file_extension": ".py",
   "mimetype": "text/x-python",
   "name": "python",
   "nbconvert_exporter": "python",
   "pygments_lexer": "ipython3",
   "version": "3.9.7"
  }
 },
 "nbformat": 4,
 "nbformat_minor": 5
}
