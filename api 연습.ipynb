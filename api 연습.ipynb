{
 "cells": [
  {
   "cell_type": "code",
   "execution_count": 11,
   "id": "f63cd08b",
   "metadata": {},
   "outputs": [],
   "source": [
    "import requests\n",
    "import json\n",
    "import datetime"
   ]
  },
  {
   "cell_type": "code",
   "execution_count": 14,
   "id": "5ac4d739",
   "metadata": {
    "scrolled": true
   },
   "outputs": [],
   "source": [
    "vilage_weather_url = 'http://apis.data.go.kr/1360000/VilageFcstInfoService_2.0/getUltraSrtFcst?'\n",
    "\n",
    "service_key = \"service_key\"\n",
    "\n",
    "today = datetime.datetime.today()\n",
    "base_date = today.strftime(\"%Y%m%d\") # \"20220307\" == 기준 날짜\n",
    "base_time = \"0800\" # 날씨 값\n",
    "\n",
    "nx = \"62\"\n",
    "ny = \"126\""
   ]
  },
  {
   "cell_type": "code",
   "execution_count": 15,
   "id": "67b2a2cd",
   "metadata": {},
   "outputs": [],
   "source": [
    "payload = \"serviceKey=\" + service_key + \"&\" +\\\n",
    "    \"dataType=json\" + \"&\" +\\\n",
    "    \"base_date=\" + base_date + \"&\" +\\\n",
    "    \"base_time=\" + base_time + \"&\" +\\\n",
    "    \"nx=\" + nx + \"&\" +\\\n",
    "    \"ny=\" + ny\n",
    "\n",
    "# 값 요청\n",
    "res = requests.get(vilage_weather_url + payload)\n",
    "\n",
    "items = res.json().get('response').get('body').get('items').get('item')"
   ]
  },
  {
   "cell_type": "code",
   "execution_count": 16,
   "id": "5fc0228d",
   "metadata": {},
   "outputs": [
    {
     "data": {
      "text/plain": [
       "{'response': {'header': {'resultCode': '00', 'resultMsg': 'NORMAL_SERVICE'},\n",
       "  'body': {'dataType': 'JSON',\n",
       "   'items': {'item': [{'baseDate': '20220311',\n",
       "      'baseTime': '0830',\n",
       "      'category': 'LGT',\n",
       "      'fcstDate': '20220311',\n",
       "      'fcstTime': '0900',\n",
       "      'fcstValue': '0',\n",
       "      'nx': 62,\n",
       "      'ny': 126},\n",
       "     {'baseDate': '20220311',\n",
       "      'baseTime': '0830',\n",
       "      'category': 'LGT',\n",
       "      'fcstDate': '20220311',\n",
       "      'fcstTime': '1000',\n",
       "      'fcstValue': '0',\n",
       "      'nx': 62,\n",
       "      'ny': 126},\n",
       "     {'baseDate': '20220311',\n",
       "      'baseTime': '0830',\n",
       "      'category': 'LGT',\n",
       "      'fcstDate': '20220311',\n",
       "      'fcstTime': '1100',\n",
       "      'fcstValue': '0',\n",
       "      'nx': 62,\n",
       "      'ny': 126},\n",
       "     {'baseDate': '20220311',\n",
       "      'baseTime': '0830',\n",
       "      'category': 'LGT',\n",
       "      'fcstDate': '20220311',\n",
       "      'fcstTime': '1200',\n",
       "      'fcstValue': '0',\n",
       "      'nx': 62,\n",
       "      'ny': 126},\n",
       "     {'baseDate': '20220311',\n",
       "      'baseTime': '0830',\n",
       "      'category': 'LGT',\n",
       "      'fcstDate': '20220311',\n",
       "      'fcstTime': '1300',\n",
       "      'fcstValue': '0',\n",
       "      'nx': 62,\n",
       "      'ny': 126},\n",
       "     {'baseDate': '20220311',\n",
       "      'baseTime': '0830',\n",
       "      'category': 'LGT',\n",
       "      'fcstDate': '20220311',\n",
       "      'fcstTime': '1400',\n",
       "      'fcstValue': '0',\n",
       "      'nx': 62,\n",
       "      'ny': 126},\n",
       "     {'baseDate': '20220311',\n",
       "      'baseTime': '0830',\n",
       "      'category': 'PTY',\n",
       "      'fcstDate': '20220311',\n",
       "      'fcstTime': '0900',\n",
       "      'fcstValue': '0',\n",
       "      'nx': 62,\n",
       "      'ny': 126},\n",
       "     {'baseDate': '20220311',\n",
       "      'baseTime': '0830',\n",
       "      'category': 'PTY',\n",
       "      'fcstDate': '20220311',\n",
       "      'fcstTime': '1000',\n",
       "      'fcstValue': '0',\n",
       "      'nx': 62,\n",
       "      'ny': 126},\n",
       "     {'baseDate': '20220311',\n",
       "      'baseTime': '0830',\n",
       "      'category': 'PTY',\n",
       "      'fcstDate': '20220311',\n",
       "      'fcstTime': '1100',\n",
       "      'fcstValue': '0',\n",
       "      'nx': 62,\n",
       "      'ny': 126},\n",
       "     {'baseDate': '20220311',\n",
       "      'baseTime': '0830',\n",
       "      'category': 'PTY',\n",
       "      'fcstDate': '20220311',\n",
       "      'fcstTime': '1200',\n",
       "      'fcstValue': '0',\n",
       "      'nx': 62,\n",
       "      'ny': 126}]},\n",
       "   'pageNo': 1,\n",
       "   'numOfRows': 10,\n",
       "   'totalCount': 60}}}"
      ]
     },
     "execution_count": 16,
     "metadata": {},
     "output_type": "execute_result"
    }
   ],
   "source": [
    "res.json()"
   ]
  },
  {
   "cell_type": "code",
   "execution_count": 17,
   "id": "4df47b86",
   "metadata": {
    "scrolled": true
   },
   "outputs": [
    {
     "data": {
      "text/plain": [
       "{'tmp': '0', 'code': '0', 'state': '없음'}"
      ]
     },
     "execution_count": 17,
     "metadata": {},
     "output_type": "execute_result"
    }
   ],
   "source": [
    "data = dict()\n",
    "data['date'] = base_date\n",
    "\n",
    "weather_data = dict()\n",
    "for item in items:\n",
    "\n",
    "\n",
    "    # 기상상태\n",
    "    if item['category'] == 'PTY':\n",
    "        \n",
    "        weather_code = item['fcstValue']\n",
    "        \n",
    "        if weather_code == '1':\n",
    "            weather_state = '비'\n",
    "        elif weather_code == '2':\n",
    "            weather_state = '비/눈'\n",
    "        elif weather_code == '3':\n",
    "            weather_state = '눈'\n",
    "        elif weather_code == '4':\n",
    "            weather_state = '소나기'\n",
    "        else:\n",
    "            weather_state = '없음'\n",
    "        \n",
    "        weather_data['code'] = weather_code\n",
    "        weather_data['state'] = weather_state\n",
    "        \n",
    "    # 기온\n",
    "    weather_data['tmp'] = item['fcstValue']\n",
    "data['weather'] = weather_data\n",
    "data['weather']"
   ]
  },
  {
   "cell_type": "code",
   "execution_count": 19,
   "id": "dec25fbc",
   "metadata": {},
   "outputs": [
    {
     "ename": "SyntaxError",
     "evalue": "cannot assign to operator (Temp/ipykernel_14312/4099665314.py, line 10)",
     "output_type": "error",
     "traceback": [
      "\u001b[1;36m  File \u001b[1;32m\"C:\\Users\\woong\\AppData\\Local\\Temp/ipykernel_14312/4099665314.py\"\u001b[1;36m, line \u001b[1;32m10\u001b[0m\n\u001b[1;33m    payload =\"serviceKey=\" + \"\"+ \"&\" +\\\u001b[0m\n\u001b[1;37m             ^\u001b[0m\n\u001b[1;31mSyntaxError\u001b[0m\u001b[1;31m:\u001b[0m cannot assign to operator\n"
     ]
    }
   ],
   "source": [
    "dust_url = \"http://apis.data.go.kr/B552584/ArpltnInforInqireSvc/getMsrstnAcctoRltmMesureDnsty?\"\n",
    "service_key = \"service_key\"\n",
    "\n",
    "item_code_pm10 = \"PM10\"\n",
    "item_code_pm25 = \"PM25\"\n",
    "\n",
    "data_gubun = \"HOUR\"\n",
    "search_condition = \"WEEK\"\n",
    "\n",
    "payload = \"serviceKey=\" + \"\"+ \"&\" +\\\n",
    "    \"returnType=json\" + \"&\" +\\\n",
    "    \"numOfRows=\" + '100' + \"&\" +\\\n",
    "    \"pageNo=\" + '1'  + \"&\" +\\\n",
    "    \"sidoName=\" + '서울' + '&'+\\\n",
    "    'ver'= + '1.0'\n",
    "\n",
    "# pm10 pm2.5 수치 가져오기\n",
    "# pm10_res = requests.get(dust_url + payload + item_code_pm10)\n",
    "# pm25_res = requests.get(dust_url + payload + item_code_pm25)\n",
    "\n",
    "res = requests.get(dust_url + payload)"
   ]
  },
  {
   "cell_type": "code",
   "execution_count": 21,
   "id": "e2a5118f",
   "metadata": {},
   "outputs": [
    {
     "name": "stdout",
     "output_type": "stream",
     "text": [
      "b'{\"response\":{\"body\":{\"totalCount\":0,\"items\":[],\"pageNo\":1,\"numOfRows\":100},\"header\":{\"resultMsg\":\"NORMAL_CODE\",\"resultCode\":\"00\"}}}'\n"
     ]
    }
   ],
   "source": [
    "url = 'http://apis.data.go.kr/B552584/ArpltnInforInqireSvc/getMinuDustFrcstDspth?'\n",
    "params ={'serviceKey' : 'service_key', \n",
    "         'returnType' : 'json', 'numOfRows' : '100', 'pageNo' : '1', 'searchDate' : '2020-11-14', 'InformCode' : 'PM10' }\n",
    "\n",
    "response = requests.get(url, params=params)\n",
    "print(response.content)"
   ]
  },
  {
   "cell_type": "code",
   "execution_count": null,
   "id": "d923fa05",
   "metadata": {},
   "outputs": [],
   "source": [
    "pm10_res.status_code"
   ]
  },
  {
   "cell_type": "code",
   "execution_count": null,
   "id": "0af65da3",
   "metadata": {},
   "outputs": [],
   "source": []
  },
  {
   "cell_type": "code",
   "execution_count": 52,
   "id": "8db71f86",
   "metadata": {},
   "outputs": [],
   "source": [
    "dust_url = \"http://apis.data.go.kr/B552584/ArpltnStatsSvc/getCtprvnMesureLIst?\"\n",
    "service_key = \"service_key\"\n",
    "item_code_pm10 = \"PM10\"\n",
    "item_code_pm25 = \"PM25\"\n",
    "\n",
    "data_gubun = \"HOUR\"\n",
    "search_condition = \"WEEK\"\n",
    "\n",
    "payload = \"serviceKey=\" + service_key + \"&\" +\\\n",
    "    \"dataType=json\" + \"&\" +\\\n",
    "    \"dataGubun=\" + data_gubun + \"&\" +\\\n",
    "    \"searchCondition=\" + search_condition  + \"&\" +\\\n",
    "    \"itemCode=\"\n",
    "\n",
    "# pm10 pm2.5 수치 가져오기\n",
    "pm10_res = requests.get(dust_url + payload + item_code_pm10)\n",
    "pm25_res = requests.get(dust_url + payload + item_code_pm25)"
   ]
  },
  {
   "cell_type": "code",
   "execution_count": 29,
   "id": "403d3c70",
   "metadata": {
    "scrolled": true
   },
   "outputs": [],
   "source": [
    "import xmltodict"
   ]
  },
  {
   "cell_type": "code",
   "execution_count": 53,
   "id": "2a0ac770",
   "metadata": {
    "scrolled": true
   },
   "outputs": [
    {
     "data": {
      "text/plain": [
       "'<?xml version=\"1.0\" encoding=\"UTF-8\"?>\\r\\n<response>\\n  <header>\\n    <resultCode>00</resultCode>\\n    <resultMsg>NORMAL_CODE</resultMsg>\\n  </header>\\n  <body>\\n    <items>\\n      <item>\\n        <daegu>65</daegu>\\n        <chungnam>92</chungnam>\\n        <incheon>70</incheon>\\n        <daejeon>59</daejeon>\\n        <gyeongbuk>59</gyeongbuk>\\n        <sejong>74</sejong>\\n        <gwangju>44</gwangju>\\n        <jeonbuk>70</jeonbuk>\\n        <gangwon>63</gangwon>\\n        <ulsan>49</ulsan>\\n        <jeonnam>46</jeonnam>\\n        <seoul>83</seoul>\\n        <busan>45</busan>\\n        <jeju>38</jeju>\\n        <chungbuk>75</chungbuk>\\n        <gyeongnam>42</gyeongnam>\\n        <dataTime>2022-03-11 21:00</dataTime>\\n        <dataGubun>1</dataGubun>\\n        <gyeonggi>88</gyeonggi>\\n        <itemCode>PM10</itemCode>\\n      </item>\\n      <item>\\n        <daegu>59</daegu>\\n        <chungnam>82</chungnam>\\n        <incheon>73</incheon>\\n        <daejeon>58</daejeon>\\n        <gyeongbuk>55</gyeongbuk>\\n        <sejong>66</sejong>\\n        <gwangju>42</gwangju>\\n        <jeonbuk>66</jeonbuk>\\n        <gangwon>61</gangwon>\\n        <ulsan>50</ulsan>\\n        <jeonnam>44</jeonnam>\\n        <seoul>81</seoul>\\n        <busan>43</busan>\\n        <jeju>39</jeju>\\n        <chungbuk>68</chungbuk>\\n        <gyeongnam>41</gyeongnam>\\n        <dataTime>2022-03-11 20:00</dataTime>\\n        <dataGubun>1</dataGubun>\\n        <gyeonggi>83</gyeonggi>\\n        <itemCode>PM10</itemCode>\\n      </item>\\n      <item>\\n        <daegu>59</daegu>\\n        <chungnam>73</chungnam>\\n        <incheon>72</incheon>\\n        <daejeon>58</daejeon>\\n        <gyeongbuk>51</gyeongbuk>\\n        <sejong>59</sejong>\\n        <gwangju>44</gwangju>\\n        <jeonbuk>63</jeonbuk>\\n        <gangwon>58</gangwon>\\n        <ulsan>54</ulsan>\\n        <jeonnam>44</jeonnam>\\n        <seoul>76</seoul>\\n        <busan>43</busan>\\n        <jeju>41</jeju>\\n        <chungbuk>62</chungbuk>\\n        <gyeongnam>40</gyeongnam>\\n        <dataTime>2022-03-11 19:00</dataTime>\\n        <dataGubun>1</dataGubun>\\n        <gyeonggi>79</gyeonggi>\\n        <itemCode>PM10</itemCode>\\n      </item>\\n      <item>\\n        <daegu>54</daegu>\\n        <chungnam>69</chungnam>\\n        <incheon>72</incheon>\\n        <daejeon>56</daejeon>\\n        <gyeongbuk>50</gyeongbuk>\\n        <sejong>60</sejong>\\n        <gwangju>46</gwangju>\\n        <jeonbuk>60</jeonbuk>\\n        <gangwon>54</gangwon>\\n        <ulsan>49</ulsan>\\n        <jeonnam>45</jeonnam>\\n        <seoul>69</seoul>\\n        <busan>48</busan>\\n        <jeju>40</jeju>\\n        <chungbuk>58</chungbuk>\\n        <gyeongnam>42</gyeongnam>\\n        <dataTime>2022-03-11 18:00</dataTime>\\n        <dataGubun>1</dataGubun>\\n        <gyeonggi>75</gyeonggi>\\n        <itemCode>PM10</itemCode>\\n      </item>\\n      <item>\\n        <daegu>51</daegu>\\n        <chungnam>68</chungnam>\\n        <incheon>71</incheon>\\n        <daejeon>56</daejeon>\\n        <gyeongbuk>52</gyeongbuk>\\n        <sejong>59</sejong>\\n        <gwangju>46</gwangju>\\n        <jeonbuk>57</jeonbuk>\\n        <gangwon>50</gangwon>\\n        <ulsan>66</ulsan>\\n        <jeonnam>46</jeonnam>\\n        <seoul>66</seoul>\\n        <busan>51</busan>\\n        <jeju>41</jeju>\\n        <chungbuk>58</chungbuk>\\n        <gyeongnam>42</gyeongnam>\\n        <dataTime>2022-03-11 17:00</dataTime>\\n        <dataGubun>1</dataGubun>\\n        <gyeonggi>72</gyeonggi>\\n        <itemCode>PM10</itemCode>\\n      </item>\\n      <item>\\n        <daegu>53</daegu>\\n        <chungnam>65</chungnam>\\n        <incheon>74</incheon>\\n        <daejeon>57</daejeon>\\n        <gyeongbuk>56</gyeongbuk>\\n        <sejong>59</sejong>\\n        <gwangju>45</gwangju>\\n        <jeonbuk>61</jeonbuk>\\n        <gangwon>47</gangwon>\\n        <ulsan>63</ulsan>\\n        <jeonnam>48</jeonnam>\\n        <seoul>63</seoul>\\n        <busan>50</busan>\\n        <jeju>42</jeju>\\n        <chungbuk>57</chungbuk>\\n        <gyeongnam>43</gyeongnam>\\n        <dataTime>2022-03-11 16:00</dataTime>\\n        <dataGubun>1</dataGubun>\\n        <gyeonggi>70</gyeonggi>\\n        <itemCode>PM10</itemCode>\\n      </item>\\n      <item>\\n        <daegu>55</daegu>\\n        <chungnam>68</chungnam>\\n        <incheon>79</incheon>\\n        <daejeon>68</daejeon>\\n        <gyeongbuk>54</gyeongbuk>\\n        <sejong>69</sejong>\\n        <gwangju>48</gwangju>\\n        <jeonbuk>57</jeonbuk>\\n        <gangwon>46</gangwon>\\n        <ulsan>44</ulsan>\\n        <jeonnam>47</jeonnam>\\n        <seoul>64</seoul>\\n        <busan>49</busan>\\n        <jeju>43</jeju>\\n        <chungbuk>63</chungbuk>\\n        <gyeongnam>45</gyeongnam>\\n        <dataTime>2022-03-11 15:00</dataTime>\\n        <dataGubun>1</dataGubun>\\n        <gyeonggi>69</gyeonggi>\\n        <itemCode>PM10</itemCode>\\n      </item>\\n      <item>\\n        <daegu>57</daegu>\\n        <chungnam>78</chungnam>\\n        <incheon>83</incheon>\\n        <daejeon>71</daejeon>\\n        <gyeongbuk>59</gyeongbuk>\\n        <sejong>76</sejong>\\n        <gwangju>51</gwangju>\\n        <jeonbuk>57</jeonbuk>\\n        <gangwon>46</gangwon>\\n        <ulsan>43</ulsan>\\n        <jeonnam>48</jeonnam>\\n        <seoul>65</seoul>\\n        <busan>49</busan>\\n        <jeju>42</jeju>\\n        <chungbuk>72</chungbuk>\\n        <gyeongnam>47</gyeongnam>\\n        <dataTime>2022-03-11 14:00</dataTime>\\n        <dataGubun>1</dataGubun>\\n        <gyeonggi>71</gyeonggi>\\n        <itemCode>PM10</itemCode>\\n      </item>\\n      <item>\\n        <daegu>58</daegu>\\n        <chungnam>87</chungnam>\\n        <incheon>85</incheon>\\n        <daejeon>84</daejeon>\\n        <gyeongbuk>61</gyeongbuk>\\n        <sejong>83</sejong>\\n        <gwangju>50</gwangju>\\n        <jeonbuk>69</jeonbuk>\\n        <gangwon>51</gangwon>\\n        <ulsan>47</ulsan>\\n        <jeonnam>52</jeonnam>\\n        <seoul>72</seoul>\\n        <busan>51</busan>\\n        <jeju>47</jeju>\\n        <chungbuk>78</chungbuk>\\n        <gyeongnam>50</gyeongnam>\\n        <dataTime>2022-03-11 13:00</dataTime>\\n        <dataGubun>1</dataGubun>\\n        <gyeonggi>76</gyeonggi>\\n        <itemCode>PM10</itemCode>\\n      </item>\\n      <item>\\n        <daegu>78</daegu>\\n        <chungnam>88</chungnam>\\n        <incheon>97</incheon>\\n        <daejeon>83</daejeon>\\n        <gyeongbuk>63</gyeongbuk>\\n        <sejong>90</sejong>\\n        <gwangju>61</gwangju>\\n        <jeonbuk>76</jeonbuk>\\n        <gangwon>52</gangwon>\\n        <ulsan>54</ulsan>\\n        <jeonnam>58</jeonnam>\\n        <seoul>76</seoul>\\n        <busan>57</busan>\\n        <jeju>43</jeju>\\n        <chungbuk>83</chungbuk>\\n        <gyeongnam>57</gyeongnam>\\n        <dataTime>2022-03-11 12:00</dataTime>\\n        <dataGubun>1</dataGubun>\\n        <gyeonggi>85</gyeonggi>\\n        <itemCode>PM10</itemCode>\\n      </item>\\n    </items>\\n    <numOfRows>10</numOfRows>\\n    <pageNo>1</pageNo>\\n    <totalCount>25</totalCount>\\n  </body>\\n</response>'"
      ]
     },
     "execution_count": 53,
     "metadata": {},
     "output_type": "execute_result"
    }
   ],
   "source": [
    "pm10_res.text"
   ]
  },
  {
   "cell_type": "code",
   "execution_count": 59,
   "id": "35fcbc12",
   "metadata": {
    "scrolled": true
   },
   "outputs": [
    {
     "data": {
      "text/plain": [
       "OrderedDict([('response',\n",
       "              OrderedDict([('header',\n",
       "                            OrderedDict([('resultCode', '00'),\n",
       "                                         ('resultMsg', 'NORMAL_CODE')])),\n",
       "                           ('body',\n",
       "                            OrderedDict([('items',\n",
       "                                          OrderedDict([('item',\n",
       "                                                        [OrderedDict([('daegu',\n",
       "                                                                       '33'),\n",
       "                                                                      ('chungnam',\n",
       "                                                                       '48'),\n",
       "                                                                      ('incheon',\n",
       "                                                                       '36'),\n",
       "                                                                      ('daejeon',\n",
       "                                                                       '28'),\n",
       "                                                                      ('gyeongbuk',\n",
       "                                                                       '27'),\n",
       "                                                                      ('sejong',\n",
       "                                                                       '33'),\n",
       "                                                                      ('gwangju',\n",
       "                                                                       '19'),\n",
       "                                                                      ('jeonbuk',\n",
       "                                                                       '37'),\n",
       "                                                                      ('gangwon',\n",
       "                                                                       '30'),\n",
       "                                                                      ('ulsan',\n",
       "                                                                       '25'),\n",
       "                                                                      ('jeonnam',\n",
       "                                                                       '19'),\n",
       "                                                                      ('seoul',\n",
       "                                                                       '46'),\n",
       "                                                                      ('busan',\n",
       "                                                                       '25'),\n",
       "                                                                      ('jeju',\n",
       "                                                                       '17'),\n",
       "                                                                      ('chungbuk',\n",
       "                                                                       '39'),\n",
       "                                                                      ('gyeongnam',\n",
       "                                                                       '22'),\n",
       "                                                                      ('dataTime',\n",
       "                                                                       '2022-03-11 21:00'),\n",
       "                                                                      ('dataGubun',\n",
       "                                                                       '1'),\n",
       "                                                                      ('gyeonggi',\n",
       "                                                                       '47'),\n",
       "                                                                      ('itemCode',\n",
       "                                                                       'PM2.5')]),\n",
       "                                                         OrderedDict([('daegu',\n",
       "                                                                       '28'),\n",
       "                                                                      ('chungnam',\n",
       "                                                                       '40'),\n",
       "                                                                      ('incheon',\n",
       "                                                                       '37'),\n",
       "                                                                      ('daejeon',\n",
       "                                                                       '25'),\n",
       "                                                                      ('gyeongbuk',\n",
       "                                                                       '25'),\n",
       "                                                                      ('sejong',\n",
       "                                                                       '29'),\n",
       "                                                                      ('gwangju',\n",
       "                                                                       '19'),\n",
       "                                                                      ('jeonbuk',\n",
       "                                                                       '32'),\n",
       "                                                                      ('gangwon',\n",
       "                                                                       '26'),\n",
       "                                                                      ('ulsan',\n",
       "                                                                       '24'),\n",
       "                                                                      ('jeonnam',\n",
       "                                                                       '18'),\n",
       "                                                                      ('seoul',\n",
       "                                                                       '44'),\n",
       "                                                                      ('busan',\n",
       "                                                                       '22'),\n",
       "                                                                      ('jeju',\n",
       "                                                                       '19'),\n",
       "                                                                      ('chungbuk',\n",
       "                                                                       '32'),\n",
       "                                                                      ('gyeongnam',\n",
       "                                                                       '20'),\n",
       "                                                                      ('dataTime',\n",
       "                                                                       '2022-03-11 20:00'),\n",
       "                                                                      ('dataGubun',\n",
       "                                                                       '1'),\n",
       "                                                                      ('gyeonggi',\n",
       "                                                                       '42'),\n",
       "                                                                      ('itemCode',\n",
       "                                                                       'PM2.5')]),\n",
       "                                                         OrderedDict([('daegu',\n",
       "                                                                       '27'),\n",
       "                                                                      ('chungnam',\n",
       "                                                                       '34'),\n",
       "                                                                      ('incheon',\n",
       "                                                                       '36'),\n",
       "                                                                      ('daejeon',\n",
       "                                                                       '24'),\n",
       "                                                                      ('gyeongbuk',\n",
       "                                                                       '22'),\n",
       "                                                                      ('sejong',\n",
       "                                                                       '25'),\n",
       "                                                                      ('gwangju',\n",
       "                                                                       '17'),\n",
       "                                                                      ('jeonbuk',\n",
       "                                                                       '29'),\n",
       "                                                                      ('gangwon',\n",
       "                                                                       '23'),\n",
       "                                                                      ('ulsan',\n",
       "                                                                       '26'),\n",
       "                                                                      ('jeonnam',\n",
       "                                                                       '17'),\n",
       "                                                                      ('seoul',\n",
       "                                                                       '38'),\n",
       "                                                                      ('busan',\n",
       "                                                                       '22'),\n",
       "                                                                      ('jeju',\n",
       "                                                                       '17'),\n",
       "                                                                      ('chungbuk',\n",
       "                                                                       '28'),\n",
       "                                                                      ('gyeongnam',\n",
       "                                                                       '20'),\n",
       "                                                                      ('dataTime',\n",
       "                                                                       '2022-03-11 19:00'),\n",
       "                                                                      ('dataGubun',\n",
       "                                                                       '1'),\n",
       "                                                                      ('gyeonggi',\n",
       "                                                                       '37'),\n",
       "                                                                      ('itemCode',\n",
       "                                                                       'PM2.5')]),\n",
       "                                                         OrderedDict([('daegu',\n",
       "                                                                       '26'),\n",
       "                                                                      ('chungnam',\n",
       "                                                                       '31'),\n",
       "                                                                      ('incheon',\n",
       "                                                                       '37'),\n",
       "                                                                      ('daejeon',\n",
       "                                                                       '26'),\n",
       "                                                                      ('gyeongbuk',\n",
       "                                                                       '22'),\n",
       "                                                                      ('sejong',\n",
       "                                                                       '22'),\n",
       "                                                                      ('gwangju',\n",
       "                                                                       '18'),\n",
       "                                                                      ('jeonbuk',\n",
       "                                                                       '29'),\n",
       "                                                                      ('gangwon',\n",
       "                                                                       '21'),\n",
       "                                                                      ('ulsan',\n",
       "                                                                       '25'),\n",
       "                                                                      ('jeonnam',\n",
       "                                                                       '17'),\n",
       "                                                                      ('seoul',\n",
       "                                                                       '34'),\n",
       "                                                                      ('busan',\n",
       "                                                                       '24'),\n",
       "                                                                      ('jeju',\n",
       "                                                                       '16'),\n",
       "                                                                      ('chungbuk',\n",
       "                                                                       '26'),\n",
       "                                                                      ('gyeongnam',\n",
       "                                                                       '20'),\n",
       "                                                                      ('dataTime',\n",
       "                                                                       '2022-03-11 18:00'),\n",
       "                                                                      ('dataGubun',\n",
       "                                                                       '1'),\n",
       "                                                                      ('gyeonggi',\n",
       "                                                                       '34'),\n",
       "                                                                      ('itemCode',\n",
       "                                                                       'PM2.5')]),\n",
       "                                                         OrderedDict([('daegu',\n",
       "                                                                       '24'),\n",
       "                                                                      ('chungnam',\n",
       "                                                                       '30'),\n",
       "                                                                      ('incheon',\n",
       "                                                                       '34'),\n",
       "                                                                      ('daejeon',\n",
       "                                                                       '24'),\n",
       "                                                                      ('gyeongbuk',\n",
       "                                                                       '21'),\n",
       "                                                                      ('sejong',\n",
       "                                                                       '22'),\n",
       "                                                                      ('gwangju',\n",
       "                                                                       '20'),\n",
       "                                                                      ('jeonbuk',\n",
       "                                                                       '26'),\n",
       "                                                                      ('gangwon',\n",
       "                                                                       '20'),\n",
       "                                                                      ('ulsan',\n",
       "                                                                       '26'),\n",
       "                                                                      ('jeonnam',\n",
       "                                                                       '17'),\n",
       "                                                                      ('seoul',\n",
       "                                                                       '32'),\n",
       "                                                                      ('busan',\n",
       "                                                                       '24'),\n",
       "                                                                      ('jeju',\n",
       "                                                                       '20'),\n",
       "                                                                      ('chungbuk',\n",
       "                                                                       '24'),\n",
       "                                                                      ('gyeongnam',\n",
       "                                                                       '19'),\n",
       "                                                                      ('dataTime',\n",
       "                                                                       '2022-03-11 17:00'),\n",
       "                                                                      ('dataGubun',\n",
       "                                                                       '1'),\n",
       "                                                                      ('gyeonggi',\n",
       "                                                                       '32'),\n",
       "                                                                      ('itemCode',\n",
       "                                                                       'PM2.5')]),\n",
       "                                                         OrderedDict([('daegu',\n",
       "                                                                       '25'),\n",
       "                                                                      ('chungnam',\n",
       "                                                                       '31'),\n",
       "                                                                      ('incheon',\n",
       "                                                                       '35'),\n",
       "                                                                      ('daejeon',\n",
       "                                                                       '25'),\n",
       "                                                                      ('gyeongbuk',\n",
       "                                                                       '23'),\n",
       "                                                                      ('sejong',\n",
       "                                                                       '26'),\n",
       "                                                                      ('gwangju',\n",
       "                                                                       '19'),\n",
       "                                                                      ('jeonbuk',\n",
       "                                                                       '28'),\n",
       "                                                                      ('gangwon',\n",
       "                                                                       '17'),\n",
       "                                                                      ('ulsan',\n",
       "                                                                       '23'),\n",
       "                                                                      ('jeonnam',\n",
       "                                                                       '18'),\n",
       "                                                                      ('seoul',\n",
       "                                                                       '29'),\n",
       "                                                                      ('busan',\n",
       "                                                                       '23'),\n",
       "                                                                      ('jeju',\n",
       "                                                                       '18'),\n",
       "                                                                      ('chungbuk',\n",
       "                                                                       '24'),\n",
       "                                                                      ('gyeongnam',\n",
       "                                                                       '20'),\n",
       "                                                                      ('dataTime',\n",
       "                                                                       '2022-03-11 16:00'),\n",
       "                                                                      ('dataGubun',\n",
       "                                                                       '1'),\n",
       "                                                                      ('gyeonggi',\n",
       "                                                                       '32'),\n",
       "                                                                      ('itemCode',\n",
       "                                                                       'PM2.5')]),\n",
       "                                                         OrderedDict([('daegu',\n",
       "                                                                       '27'),\n",
       "                                                                      ('chungnam',\n",
       "                                                                       '34'),\n",
       "                                                                      ('incheon',\n",
       "                                                                       '39'),\n",
       "                                                                      ('daejeon',\n",
       "                                                                       '32'),\n",
       "                                                                      ('gyeongbuk',\n",
       "                                                                       '24'),\n",
       "                                                                      ('sejong',\n",
       "                                                                       '28'),\n",
       "                                                                      ('gwangju',\n",
       "                                                                       '20'),\n",
       "                                                                      ('jeonbuk',\n",
       "                                                                       '29'),\n",
       "                                                                      ('gangwon',\n",
       "                                                                       '16'),\n",
       "                                                                      ('ulsan',\n",
       "                                                                       '19'),\n",
       "                                                                      ('jeonnam',\n",
       "                                                                       '19'),\n",
       "                                                                      ('seoul',\n",
       "                                                                       '29'),\n",
       "                                                                      ('busan',\n",
       "                                                                       '21'),\n",
       "                                                                      ('jeju',\n",
       "                                                                       '17'),\n",
       "                                                                      ('chungbuk',\n",
       "                                                                       '29'),\n",
       "                                                                      ('gyeongnam',\n",
       "                                                                       '21'),\n",
       "                                                                      ('dataTime',\n",
       "                                                                       '2022-03-11 15:00'),\n",
       "                                                                      ('dataGubun',\n",
       "                                                                       '1'),\n",
       "                                                                      ('gyeonggi',\n",
       "                                                                       '32'),\n",
       "                                                                      ('itemCode',\n",
       "                                                                       'PM2.5')]),\n",
       "                                                         OrderedDict([('daegu',\n",
       "                                                                       '25'),\n",
       "                                                                      ('chungnam',\n",
       "                                                                       '43'),\n",
       "                                                                      ('incheon',\n",
       "                                                                       '42'),\n",
       "                                                                      ('daejeon',\n",
       "                                                                       '39'),\n",
       "                                                                      ('gyeongbuk',\n",
       "                                                                       '27'),\n",
       "                                                                      ('sejong',\n",
       "                                                                       '39'),\n",
       "                                                                      ('gwangju',\n",
       "                                                                       '21'),\n",
       "                                                                      ('jeonbuk',\n",
       "                                                                       '28'),\n",
       "                                                                      ('gangwon',\n",
       "                                                                       '19'),\n",
       "                                                                      ('ulsan',\n",
       "                                                                       '17'),\n",
       "                                                                      ('jeonnam',\n",
       "                                                                       '24'),\n",
       "                                                                      ('seoul',\n",
       "                                                                       '30'),\n",
       "                                                                      ('busan',\n",
       "                                                                       '23'),\n",
       "                                                                      ('jeju',\n",
       "                                                                       '17'),\n",
       "                                                                      ('chungbuk',\n",
       "                                                                       '36'),\n",
       "                                                                      ('gyeongnam',\n",
       "                                                                       '22'),\n",
       "                                                                      ('dataTime',\n",
       "                                                                       '2022-03-11 14:00'),\n",
       "                                                                      ('dataGubun',\n",
       "                                                                       '1'),\n",
       "                                                                      ('gyeonggi',\n",
       "                                                                       '36'),\n",
       "                                                                      ('itemCode',\n",
       "                                                                       'PM2.5')]),\n",
       "                                                         OrderedDict([('daegu',\n",
       "                                                                       '29'),\n",
       "                                                                      ('chungnam',\n",
       "                                                                       '49'),\n",
       "                                                                      ('incheon',\n",
       "                                                                       '46'),\n",
       "                                                                      ('daejeon',\n",
       "                                                                       '43'),\n",
       "                                                                      ('gyeongbuk',\n",
       "                                                                       '30'),\n",
       "                                                                      ('sejong',\n",
       "                                                                       '41'),\n",
       "                                                                      ('gwangju',\n",
       "                                                                       '24'),\n",
       "                                                                      ('jeonbuk',\n",
       "                                                                       '37'),\n",
       "                                                                      ('gangwon',\n",
       "                                                                       '22'),\n",
       "                                                                      ('ulsan',\n",
       "                                                                       '21'),\n",
       "                                                                      ('jeonnam',\n",
       "                                                                       '25'),\n",
       "                                                                      ('seoul',\n",
       "                                                                       '36'),\n",
       "                                                                      ('busan',\n",
       "                                                                       '24'),\n",
       "                                                                      ('jeju',\n",
       "                                                                       '17'),\n",
       "                                                                      ('chungbuk',\n",
       "                                                                       '43'),\n",
       "                                                                      ('gyeongnam',\n",
       "                                                                       '26'),\n",
       "                                                                      ('dataTime',\n",
       "                                                                       '2022-03-11 13:00'),\n",
       "                                                                      ('dataGubun',\n",
       "                                                                       '1'),\n",
       "                                                                      ('gyeonggi',\n",
       "                                                                       '40'),\n",
       "                                                                      ('itemCode',\n",
       "                                                                       'PM2.5')]),\n",
       "                                                         OrderedDict([('daegu',\n",
       "                                                                       '45'),\n",
       "                                                                      ('chungnam',\n",
       "                                                                       '51'),\n",
       "                                                                      ('incheon',\n",
       "                                                                       '56'),\n",
       "                                                                      ('daejeon',\n",
       "                                                                       '43'),\n",
       "                                                                      ('gyeongbuk',\n",
       "                                                                       '33'),\n",
       "                                                                      ('sejong',\n",
       "                                                                       '44'),\n",
       "                                                                      ('gwangju',\n",
       "                                                                       '31'),\n",
       "                                                                      ('jeonbuk',\n",
       "                                                                       '43'),\n",
       "                                                                      ('gangwon',\n",
       "                                                                       '24'),\n",
       "                                                                      ('ulsan',\n",
       "                                                                       '26'),\n",
       "                                                                      ('jeonnam',\n",
       "                                                                       '28'),\n",
       "                                                                      ('seoul',\n",
       "                                                                       '41'),\n",
       "                                                                      ('busan',\n",
       "                                                                       '27'),\n",
       "                                                                      ('jeju',\n",
       "                                                                       '15'),\n",
       "                                                                      ('chungbuk',\n",
       "                                                                       '45'),\n",
       "                                                                      ('gyeongnam',\n",
       "                                                                       '31'),\n",
       "                                                                      ('dataTime',\n",
       "                                                                       '2022-03-11 12:00'),\n",
       "                                                                      ('dataGubun',\n",
       "                                                                       '1'),\n",
       "                                                                      ('gyeonggi',\n",
       "                                                                       '47'),\n",
       "                                                                      ('itemCode',\n",
       "                                                                       'PM2.5')])])])),\n",
       "                                         ('numOfRows', '10'),\n",
       "                                         ('pageNo', '1'),\n",
       "                                         ('totalCount', '25')]))]))])"
      ]
     },
     "execution_count": 59,
     "metadata": {},
     "output_type": "execute_result"
    }
   ],
   "source": [
    "pm10 = xmltodict.parse(pm10_res.text)\n",
    "pm10\n",
    "pm25 = xmltodict.parse(pm25_res.text)\n",
    "pm25"
   ]
  },
  {
   "cell_type": "code",
   "execution_count": 60,
   "id": "4ec12faa",
   "metadata": {
    "scrolled": true
   },
   "outputs": [],
   "source": [
    "pm10_value=pm10['response']['body']['items']['item'][0]['seoul']\n",
    "pm25_value=pm25['response']['body']['items']['item'][0]['seoul']"
   ]
  },
  {
   "cell_type": "code",
   "execution_count": 57,
   "id": "caf23ea3",
   "metadata": {},
   "outputs": [
    {
     "data": {
      "text/plain": [
       "{'date': '20220311', 'weather': {'tmp': '0', 'code': '0', 'state': '없음'}}"
      ]
     },
     "execution_count": 57,
     "metadata": {},
     "output_type": "execute_result"
    }
   ],
   "source": [
    "data"
   ]
  },
  {
   "cell_type": "code",
   "execution_count": 66,
   "id": "9a470722",
   "metadata": {},
   "outputs": [],
   "source": [
    "dust_data = {'PM10':{'value':int(pm10_value)}, 'PM25':{'value':int(pm25_value)}}"
   ]
  },
  {
   "cell_type": "code",
   "execution_count": 67,
   "id": "42c53b74",
   "metadata": {},
   "outputs": [
    {
     "data": {
      "text/plain": [
       "{'PM10': {'value': 83}, 'PM25': {'value': 46}}"
      ]
     },
     "execution_count": 67,
     "metadata": {},
     "output_type": "execute_result"
    }
   ],
   "source": [
    "dust_data"
   ]
  },
  {
   "cell_type": "code",
   "execution_count": 68,
   "id": "232bb862",
   "metadata": {},
   "outputs": [],
   "source": [
    "pm10_value = dust_data.get('PM10').get('value')\n",
    "pm25_value = dust_data.get('PM25').get('value')"
   ]
  },
  {
   "cell_type": "code",
   "execution_count": 69,
   "id": "0e969990",
   "metadata": {},
   "outputs": [],
   "source": [
    "if pm10_value <= 30:\n",
    "    pm10_state = '좋음'\n",
    "elif pm10_value <= 80:\n",
    "    pm10_state = '보통'\n",
    "elif pm10_value <= 150:\n",
    "    pm10_state = '나쁨'\n",
    "else:\n",
    "    pm10_state = '매우나쁨'"
   ]
  },
  {
   "cell_type": "code",
   "execution_count": 70,
   "id": "ac260362",
   "metadata": {},
   "outputs": [],
   "source": [
    "if pm25_value <= 15:\n",
    "    pm25_state = '좋음'\n",
    "elif pm25_value <= 35:\n",
    "    pm25_state = '보통'\n",
    "elif pm25_value <= 75:\n",
    "    pm25_state = '나쁨'\n",
    "else:\n",
    "    pm25_state = '매우나쁨'"
   ]
  },
  {
   "cell_type": "code",
   "execution_count": 71,
   "id": "f4079e63",
   "metadata": {},
   "outputs": [],
   "source": [
    "if pm10_value > 80 or pm25_value > 75:\n",
    "    dust_code = '1'\n",
    "else:\n",
    "    dust_code = '0'"
   ]
  },
  {
   "cell_type": "code",
   "execution_count": 72,
   "id": "364ad1fc",
   "metadata": {},
   "outputs": [],
   "source": [
    "dust_data.get('PM10')['state'] = pm10_state\n",
    "dust_data.get('PM25')['state'] = pm25_state\n",
    "dust_data['code'] = dust_code"
   ]
  },
  {
   "cell_type": "code",
   "execution_count": 73,
   "id": "eb233f00",
   "metadata": {},
   "outputs": [
    {
     "data": {
      "text/plain": [
       "{'PM10': {'value': 83, 'state': '나쁨'},\n",
       " 'PM25': {'value': 46, 'state': '나쁨'},\n",
       " 'code': '1'}"
      ]
     },
     "execution_count": 73,
     "metadata": {},
     "output_type": "execute_result"
    }
   ],
   "source": [
    "data['dust'] = dust_data\n",
    "data['dust']"
   ]
  },
  {
   "cell_type": "code",
   "execution_count": 74,
   "id": "b1c2f682",
   "metadata": {
    "scrolled": true
   },
   "outputs": [
    {
     "data": {
      "text/plain": [
       "{'date': '20220311',\n",
       " 'weather': {'tmp': '0', 'code': '0', 'state': '없음'},\n",
       " 'dust': {'PM10': {'value': 83, 'state': '나쁨'},\n",
       "  'PM25': {'value': 46, 'state': '나쁨'},\n",
       "  'code': '1'}}"
      ]
     },
     "execution_count": 74,
     "metadata": {},
     "output_type": "execute_result"
    }
   ],
   "source": [
    "data"
   ]
  },
  {
   "cell_type": "code",
   "execution_count": 75,
   "id": "2104cd52",
   "metadata": {},
   "outputs": [],
   "source": [
    "rain_foods = \"부대찌개,아구찜,해물탕,칼국수,수제비,짬뽕,우동,치킨,국밥,김치부침개,두부김치,파전\".split(',')\n",
    "pmhigh_foods = \"콩나물국밥,고등어,굴,쌀국수,마라탕\".split(',')"
   ]
  },
  {
   "cell_type": "code",
   "execution_count": 76,
   "id": "4d88da5a",
   "metadata": {},
   "outputs": [],
   "source": [
    "# 경우 1 : 비/눈/소나기           => 비오는날 음식 3개 추천\n",
    "# 경우 2 : 초/미세먼지 나쁨 이상  => 미세먼지에 좋은 음식 3개 추천\n",
    "# 경우 3 : 정상                   => 블로그 리뷰 순 맛집 추천\n",
    "\n",
    "# weather_state\n",
    "if data.get('weather').get('code') != '0':\n",
    "    weather_state = '1'\n",
    "elif data.get('dust').get('code') == '1':\n",
    "    weather_state = '2'\n",
    "else:\n",
    "    weather_state = '3'"
   ]
  },
  {
   "cell_type": "code",
   "execution_count": 78,
   "id": "1de65cbc",
   "metadata": {},
   "outputs": [
    {
     "data": {
      "text/plain": [
       "['굴', '콩나물국밥', '쌀국수', '고등어', '마라탕']"
      ]
     },
     "execution_count": 78,
     "metadata": {},
     "output_type": "execute_result"
    }
   ],
   "source": [
    "import random\n",
    "# random.sample(x, k=len(x)) 무작위로 리스트 섞기\n",
    "\n",
    "foods_list = None\n",
    "\n",
    "# 경우 1, 2, 3\n",
    "if weather_state == '1':\n",
    "    foods_list = random.sample(rain_foods, k=len(rain_foods))\n",
    "elif weather_state == '2':\n",
    "    foods_list = random.sample(pmhigh_foods, k=len(pmhigh_foods))\n",
    "else:\n",
    "    foods_list = ['']\n",
    "\n",
    "foods_list"
   ]
  },
  {
   "cell_type": "code",
   "execution_count": null,
   "id": "a21f59d0",
   "metadata": {},
   "outputs": [],
   "source": []
  }
 ],
 "metadata": {
  "kernelspec": {
   "display_name": "Python 3 (ipykernel)",
   "language": "python",
   "name": "python3"
  },
  "language_info": {
   "codemirror_mode": {
    "name": "ipython",
    "version": 3
   },
   "file_extension": ".py",
   "mimetype": "text/x-python",
   "name": "python",
   "nbconvert_exporter": "python",
   "pygments_lexer": "ipython3",
   "version": "3.9.7"
  }
 },
 "nbformat": 4,
 "nbformat_minor": 5
}
