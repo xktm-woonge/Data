{
 "cells": [
  {
   "cell_type": "code",
   "execution_count": 1,
   "id": "f63cd08b",
   "metadata": {},
   "outputs": [],
   "source": [
    "import requests\n",
    "import json\n",
    "import datetime"
   ]
  },
  {
   "cell_type": "code",
   "execution_count": 2,
   "id": "5ac4d739",
   "metadata": {
    "scrolled": true
   },
   "outputs": [],
   "source": [
    "vilage_weather_url = 'http://apis.data.go.kr/1360000/VilageFcstInfoService_2.0/getUltraSrtFcst?'\n",
    "\n",
    "service_key = \"\"\n",
    "\n",
    "today = datetime.datetime.today()\n",
    "base_date = today.strftime(\"%Y%m%d\") # \"20220307\" == 기준 날짜\n",
    "base_time = \"0800\" # 날씨 값\n",
    "\n",
    "nx = \"62\"\n",
    "ny = \"126\""
   ]
  },
  {
   "cell_type": "code",
   "execution_count": 3,
   "id": "67b2a2cd",
   "metadata": {},
   "outputs": [],
   "source": [
    "payload = \"serviceKey=\" + service_key + \"&\" +\\\n",
    "    \"dataType=json\" + \"&\" +\\\n",
    "    \"base_date=\" + base_date + \"&\" +\\\n",
    "    \"base_time=\" + base_time + \"&\" +\\\n",
    "    \"nx=\" + nx + \"&\" +\\\n",
    "    \"ny=\" + ny\n",
    "\n",
    "# 값 요청\n",
    "res = requests.get(vilage_weather_url + payload)\n",
    "\n",
    "items = res.json().get('response').get('body').get('items').get('item')"
   ]
  },
  {
   "cell_type": "code",
   "execution_count": 4,
   "id": "5fc0228d",
   "metadata": {},
   "outputs": [
    {
     "data": {
      "text/plain": [
       "{'response': {'header': {'resultCode': '00', 'resultMsg': 'NORMAL_SERVICE'},\n",
       "  'body': {'dataType': 'JSON',\n",
       "   'items': {'item': [{'baseDate': '20220308',\n",
       "      'baseTime': '0830',\n",
       "      'category': 'LGT',\n",
       "      'fcstDate': '20220308',\n",
       "      'fcstTime': '0900',\n",
       "      'fcstValue': '0',\n",
       "      'nx': 62,\n",
       "      'ny': 126},\n",
       "     {'baseDate': '20220308',\n",
       "      'baseTime': '0830',\n",
       "      'category': 'LGT',\n",
       "      'fcstDate': '20220308',\n",
       "      'fcstTime': '1000',\n",
       "      'fcstValue': '0',\n",
       "      'nx': 62,\n",
       "      'ny': 126},\n",
       "     {'baseDate': '20220308',\n",
       "      'baseTime': '0830',\n",
       "      'category': 'LGT',\n",
       "      'fcstDate': '20220308',\n",
       "      'fcstTime': '1100',\n",
       "      'fcstValue': '0',\n",
       "      'nx': 62,\n",
       "      'ny': 126},\n",
       "     {'baseDate': '20220308',\n",
       "      'baseTime': '0830',\n",
       "      'category': 'LGT',\n",
       "      'fcstDate': '20220308',\n",
       "      'fcstTime': '1200',\n",
       "      'fcstValue': '0',\n",
       "      'nx': 62,\n",
       "      'ny': 126},\n",
       "     {'baseDate': '20220308',\n",
       "      'baseTime': '0830',\n",
       "      'category': 'LGT',\n",
       "      'fcstDate': '20220308',\n",
       "      'fcstTime': '1300',\n",
       "      'fcstValue': '0',\n",
       "      'nx': 62,\n",
       "      'ny': 126},\n",
       "     {'baseDate': '20220308',\n",
       "      'baseTime': '0830',\n",
       "      'category': 'LGT',\n",
       "      'fcstDate': '20220308',\n",
       "      'fcstTime': '1400',\n",
       "      'fcstValue': '0',\n",
       "      'nx': 62,\n",
       "      'ny': 126},\n",
       "     {'baseDate': '20220308',\n",
       "      'baseTime': '0830',\n",
       "      'category': 'PTY',\n",
       "      'fcstDate': '20220308',\n",
       "      'fcstTime': '0900',\n",
       "      'fcstValue': '0',\n",
       "      'nx': 62,\n",
       "      'ny': 126},\n",
       "     {'baseDate': '20220308',\n",
       "      'baseTime': '0830',\n",
       "      'category': 'PTY',\n",
       "      'fcstDate': '20220308',\n",
       "      'fcstTime': '1000',\n",
       "      'fcstValue': '0',\n",
       "      'nx': 62,\n",
       "      'ny': 126},\n",
       "     {'baseDate': '20220308',\n",
       "      'baseTime': '0830',\n",
       "      'category': 'PTY',\n",
       "      'fcstDate': '20220308',\n",
       "      'fcstTime': '1100',\n",
       "      'fcstValue': '0',\n",
       "      'nx': 62,\n",
       "      'ny': 126},\n",
       "     {'baseDate': '20220308',\n",
       "      'baseTime': '0830',\n",
       "      'category': 'PTY',\n",
       "      'fcstDate': '20220308',\n",
       "      'fcstTime': '1200',\n",
       "      'fcstValue': '0',\n",
       "      'nx': 62,\n",
       "      'ny': 126}]},\n",
       "   'pageNo': 1,\n",
       "   'numOfRows': 10,\n",
       "   'totalCount': 60}}}"
      ]
     },
     "execution_count": 4,
     "metadata": {},
     "output_type": "execute_result"
    }
   ],
   "source": [
    "res.json()"
   ]
  },
  {
   "cell_type": "code",
   "execution_count": 5,
   "id": "4df47b86",
   "metadata": {
    "scrolled": true
   },
   "outputs": [
    {
     "data": {
      "text/plain": [
       "{'tmp': '0', 'code': '0', 'state': '없음'}"
      ]
     },
     "execution_count": 5,
     "metadata": {},
     "output_type": "execute_result"
    }
   ],
   "source": [
    "data = dict()\n",
    "data['date'] = base_date\n",
    "\n",
    "weather_data = dict()\n",
    "for item in items:\n",
    "\n",
    "\n",
    "    # 기상상태\n",
    "    if item['category'] == 'PTY':\n",
    "        \n",
    "        weather_code = item['fcstValue']\n",
    "        \n",
    "        if weather_code == '1':\n",
    "            weather_state = '비'\n",
    "        elif weather_code == '2':\n",
    "            weather_state = '비/눈'\n",
    "        elif weather_code == '3':\n",
    "            weather_state = '눈'\n",
    "        elif weather_code == '4':\n",
    "            weather_state = '소나기'\n",
    "        else:\n",
    "            weather_state = '없음'\n",
    "        \n",
    "        weather_data['code'] = weather_code\n",
    "        weather_data['state'] = weather_state\n",
    "        \n",
    "    # 기온\n",
    "    weather_data['tmp'] = item['fcstValue']\n",
    "data['weather'] = weather_data\n",
    "data['weather']"
   ]
  },
  {
   "cell_type": "code",
   "execution_count": 8,
   "id": "dec25fbc",
   "metadata": {},
   "outputs": [
    {
     "ename": "SyntaxError",
     "evalue": "cannot assign to operator (Temp/ipykernel_900/421445676.py, line 10)",
     "output_type": "error",
     "traceback": [
      "\u001b[1;36m  File \u001b[1;32m\"C:\\Users\\woong\\AppData\\Local\\Temp/ipykernel_900/421445676.py\"\u001b[1;36m, line \u001b[1;32m10\u001b[0m\n\u001b[1;33m    payload = \"serviceKey=\" + \"LY8md9%2FZL7jhnRWCK2d3srcSAnJaWDR4oHmPb0uUwgBgo87ilNveQyR%2F2vLhOUqYrUdYzPvYndrtlP%2FQXYfgcw%3D%3D\"+ \"&\" +\\\u001b[0m\n\u001b[1;37m              ^\u001b[0m\n\u001b[1;31mSyntaxError\u001b[0m\u001b[1;31m:\u001b[0m cannot assign to operator\n"
     ]
    }
   ],
   "source": [
    "dust_url = \"http://apis.data.go.kr/B552584/ArpltnInforInqireSvc/getMsrstnAcctoRltmMesureDnsty?\"\n",
    "service_key = \"\"\n",
    "\n",
    "item_code_pm10 = \"PM10\"\n",
    "item_code_pm25 = \"PM25\"\n",
    "\n",
    "data_gubun = \"HOUR\"\n",
    "search_condition = \"WEEK\"\n",
    "\n",
    "payload = \"serviceKey=\" + \"\"+ \"&\" +\\\n",
    "    \"returnType=json\" + \"&\" +\\\n",
    "    \"numOfRows=\" + '100' + \"&\" +\\\n",
    "    \"pageNo=\" + '1'  + \"&\" +\\\n",
    "    \"sidoName=\" + '서울' + '&'+\\\n",
    "    'ver'= + '1.0'\n",
    "\n",
    "# pm10 pm2.5 수치 가져오기\n",
    "# pm10_res = requests.get(dust_url + payload + item_code_pm10)\n",
    "# pm25_res = requests.get(dust_url + payload + item_code_pm25)\n",
    "\n",
    "res = requests.get(dust_url + payload)"
   ]
  },
  {
   "cell_type": "code",
   "execution_count": 12,
   "id": "e2a5118f",
   "metadata": {},
   "outputs": [
    {
     "name": "stdout",
     "output_type": "stream",
     "text": [
      "b'<OpenAPI_ServiceResponse>\\n\\t<cmmMsgHeader>\\n\\t\\t<errMsg>SERVICE ERROR</errMsg>\\n\\t\\t<returnAuthMsg>SERVICE_KEY_IS_NOT_REGISTERED_ERROR</returnAuthMsg>\\n\\t\\t<returnReasonCode>30</returnReasonCode>\\n\\t</cmmMsgHeader>\\n</OpenAPI_ServiceResponse>'\n"
     ]
    }
   ],
   "source": [
    "url = 'http://apis.data.go.kr/B552584/ArpltnInforInqireSvc/getMinuDustFrcstDspth?'\n",
    "params ={'serviceKey' : '', \n",
    "         'returnType' : 'json', 'numOfRows' : '100', 'pageNo' : '1', 'searchDate' : '2020-11-14', 'InformCode' : 'PM10' }\n",
    "\n",
    "response = requests.get(url, params=params)\n",
    "print(response.content)"
   ]
  },
  {
   "cell_type": "code",
   "execution_count": null,
   "id": "d923fa05",
   "metadata": {},
   "outputs": [],
   "source": [
    "pm10_res.status_code"
   ]
  },
  {
   "cell_type": "code",
   "execution_count": null,
   "id": "0af65da3",
   "metadata": {},
   "outputs": [],
   "source": []
  },
  {
   "cell_type": "code",
   "execution_count": null,
   "id": "8db71f86",
   "metadata": {},
   "outputs": [],
   "source": [
    "dust_url = \"http://apis.data.go.kr/B552584/ArpltnInforInqireSvc/getCtprvnRltmMesureDnsty?\"\n",
    "service_key = \"\"\n",
    "item_code_pm10 = \"PM10\"\n",
    "item_code_pm25 = \"PM25\"\n",
    "\n",
    "data_gubun = \"HOUR\"\n",
    "search_condition = \"WEEK\"\n",
    "\n",
    "payload = \"serviceKey=\" + service_key + \"&\" +\\\n",
    "    \"dataType=json\" + \"&\" +\\\n",
    "    \"dataGubun=\" + data_gubun + \"&\" +\\\n",
    "    \"searchCondition=\" + search_condition  + \"&\" +\\\n",
    "    \"itemCode=\"\n",
    "\n",
    "# pm10 pm2.5 수치 가져오기\n",
    "pm10_res = requests.get(dust_url + payload + item_code_pm10)\n",
    "pm25_res = requests.get(dust_url + payload + item_code_pm25)"
   ]
  },
  {
   "cell_type": "code",
   "execution_count": null,
   "id": "64f039ca",
   "metadata": {
    "scrolled": false
   },
   "outputs": [],
   "source": [
    "pm10_res.status_code"
   ]
  },
  {
   "cell_type": "code",
   "execution_count": 10,
   "id": "edfae95a",
   "metadata": {},
   "outputs": [],
   "source": [
    "dust_url = \"http://apis.data.go.kr/B552584/ArpltnInforInqireSvc/getMsrstnAcctoRltmMesureDnsty?\"\n",
    "service_key = \"\"\n",
    "\n",
    "item_code_pm10 = \"PM10\"\n",
    "item_code_pm25 = \"PM25\"\n",
    "\n",
    "data_gubun = \"HOUR\"\n",
    "search_condition = \"WEEK\"\n",
    "\n",
    "payload = \"serviceKey=\" + service_key + \"&\" +\\\n",
    "    \"dataType=json\" + \"&\" +\\\n",
    "    \"dataGubun=\" + data_gubun + \"&\" +\\\n",
    "    \"searchCondition=\" + search_condition  + \"&\" +\\\n",
    "    \"itemCode=\"\n",
    "\n",
    "# pm10 pm2.5 수치 가져오기\n",
    "pm10_res = requests.get(dust_url + payload + item_code_pm10)\n",
    "pm25_res = requests.get(dust_url + payload + item_code_pm25)"
   ]
  },
  {
   "cell_type": "code",
   "execution_count": 15,
   "id": "bb485025",
   "metadata": {},
   "outputs": [
    {
     "name": "stdout",
     "output_type": "stream",
     "text": [
      "b'<OpenAPI_ServiceResponse>\\n\\t<cmmMsgHeader>\\n\\t\\t<errMsg>SERVICE ERROR</errMsg>\\n\\t\\t<returnAuthMsg>SERVICE_KEY_IS_NOT_REGISTERED_ERROR</returnAuthMsg>\\n\\t\\t<returnReasonCode>30</returnReasonCode>\\n\\t</cmmMsgHeader>\\n</OpenAPI_ServiceResponse>'\n"
     ]
    }
   ],
   "source": [
    "url = 'http://apis.data.go.kr/B552584/ArpltnInforInqireSvc/getMinuDustFrcstDspth'\n",
    "params ={'serviceKey' : '', \n",
    "         'returnType' : 'json', 'numOfRows' : '100', 'pageNo' : '1', 'searchDate' : base_date, 'InformCode' : 'PM10' }\n",
    "\n",
    "response = requests.get(url, params=params)\n",
    "print(response.content)"
   ]
  },
  {
   "cell_type": "code",
   "execution_count": null,
   "id": "a1d8c828",
   "metadata": {},
   "outputs": [],
   "source": [
    "from urllib import parse"
   ]
  },
  {
   "cell_type": "code",
   "execution_count": null,
   "id": "c3c065be",
   "metadata": {},
   "outputs": [],
   "source": [
    "queryParams = f'?{parse.quote_plus(\"serviceKey\")}={service_key}' + parse.urlencode({\n",
    "    parse.quote_plus('dataType') : 'json',\n",
    "    parse.quote_plus('dataGubun') : data_gubun,\n",
    "    parse.quote_plus('searchCondition') : search_condition\n",
    "})\n",
    "\n",
    "res_pm10 = requests.get(dust_url + queryParams + 'itemCode=' +item_code_pm10)"
   ]
  },
  {
   "cell_type": "code",
   "execution_count": null,
   "id": "9fc04758",
   "metadata": {},
   "outputs": [],
   "source": [
    "dust_url = \"http://apis.data.go.kr/B552584/ArpltnInforInqireSvc/getCtprvnRltmMesureDnsty?\"\n",
    "service_key = \n",
    "item_code_pm10 = \"PM10\"\n",
    "item_code_pm25 = \"PM25\"\n",
    "\n",
    "data_gubun = \"HOUR\"\n",
    "search_condition = \"WEEK\"\n",
    "\n",
    "payload = \"serviceKey=\" + service_key + \"&\" +\\\n",
    "    \"dataType=json\" + \"&\" +\\\n",
    "    \"dataGubun=\" + data_gubun + \"&\" +\\\n",
    "    \"searchCondition=\" + search_condition  + \"&\" +\\\n",
    "    \"itemCode=\"\n",
    "\n",
    "# pm10 pm2.5 수치 가져오기\n",
    "pm10_res = requests.get(dust_url + payload + item_code_pm10)\n",
    "pm25_res = requests.get(dust_url + payload + item_code_pm25)"
   ]
  },
  {
   "cell_type": "code",
   "execution_count": null,
   "id": "372be77f",
   "metadata": {},
   "outputs": [],
   "source": [
    "# # xml 파싱하기\n",
    "# import xml.etree.ElementTree as elemTree\n",
    "\n",
    "# pm10_tree = elemTree.fromstring(pm10_res.text)\n",
    "# pm25_tree = elemTree.fromstring(pm25_res.text)\n",
    "\n",
    "# dust_data = dict()\n",
    "# for tree in [pm10_tree, pm25_tree]:\n",
    "#     item = tree.find(\"body\").find(\"items\").find(\"item\")\n",
    "#     code = item.findtext(\"itemCode\")\n",
    "#     value = int(item.findtext(\"seoul\"))\n",
    "    \n",
    "#     dust_data[code] = {'value' : value}\n",
    "\n",
    "# # 결과 값\n",
    "# dust_data\n",
    "# # {'PM10': {'value': 94}, 'PM2.5': {'value': 71}}"
   ]
  },
  {
   "cell_type": "code",
   "execution_count": null,
   "id": "403d3c70",
   "metadata": {
    "scrolled": true
   },
   "outputs": [],
   "source": [
    "import xmltodict"
   ]
  },
  {
   "cell_type": "code",
   "execution_count": null,
   "id": "2a0ac770",
   "metadata": {},
   "outputs": [],
   "source": [
    "pm10_res.text"
   ]
  },
  {
   "cell_type": "code",
   "execution_count": null,
   "id": "35fcbc12",
   "metadata": {
    "scrolled": true
   },
   "outputs": [],
   "source": [
    "pm10 = xmltodict.parse(pm10_res.text)\n",
    "pm10"
   ]
  }
 ],
 "metadata": {
  "kernelspec": {
   "display_name": "Python 3 (ipykernel)",
   "language": "python",
   "name": "python3"
  },
  "language_info": {
   "codemirror_mode": {
    "name": "ipython",
    "version": 3
   },
   "file_extension": ".py",
   "mimetype": "text/x-python",
   "name": "python",
   "nbconvert_exporter": "python",
   "pygments_lexer": "ipython3",
   "version": "3.9.7"
  }
 },
 "nbformat": 4,
 "nbformat_minor": 5
}
