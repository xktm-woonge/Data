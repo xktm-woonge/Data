{
 "cells": [
  {
   "cell_type": "code",
   "execution_count": 8,
   "id": "67a35eaa",
   "metadata": {},
   "outputs": [],
   "source": [
    "from selenium import webdriver\n",
    "from selenium.webdriver.chrome.options import Options\n",
    "import time"
   ]
  },
  {
   "cell_type": "code",
   "execution_count": 9,
   "id": "82bba793",
   "metadata": {},
   "outputs": [
    {
     "name": "stderr",
     "output_type": "stream",
     "text": [
      "C:\\Users\\woong\\AppData\\Local\\Temp/ipykernel_11036/1719840376.py:6: DeprecationWarning: executable_path has been deprecated, please pass in a Service object\n",
      "  driver = webdriver.Chrome(\"./chromedriver.exe\")\n"
     ]
    }
   ],
   "source": [
    "url = 'https://aptgin.com'\n",
    "\n",
    "options = Options()\n",
    "options.add_argument(\"--start-maximized\")\n",
    "\n",
    "driver = webdriver.Chrome(\"./chromedriver.exe\")\n",
    "\n",
    "driver.get(url)\n",
    "time.sleep(5)"
   ]
  },
  {
   "cell_type": "code",
   "execution_count": 29,
   "id": "cdf64b86",
   "metadata": {},
   "outputs": [],
   "source": [
    "login = {\n",
    "    'id':'id',\n",
    "    'pw':'pw'\n",
    "}"
   ]
  },
  {
   "cell_type": "code",
   "execution_count": 20,
   "id": "d80a3ed7",
   "metadata": {},
   "outputs": [],
   "source": [
    "from selenium.webdriver.common.action_chains import ActionChains\n",
    "from selenium.webdriver.common.keys import Keys\n",
    "import pyperclip\n",
    "\n",
    "def clipboard_input(user_xpath, user_input):\n",
    "        temp_user_input = pyperclip.paste()  # 사용자 클립보드를 따로 저장\n",
    "\n",
    "        pyperclip.copy(user_input)\n",
    "        driver.find_element_by_xpath(user_xpath).click()\n",
    "        ActionChains(driver).key_down(Keys.CONTROL).send_keys('v').key_up(Keys.CONTROL).perform()\n",
    "\n",
    "        pyperclip.copy(temp_user_input)  # 사용자 클립보드에 저장 된 내용을 다시 가져 옴\n",
    "        time.sleep(1)\n",
    "        \n",
    "def aptgin_login():\n",
    "    #로그인 버튼 누르기\n",
    "    driver.find_element_by_xpath('//*[@id=\"gnb\"]/div[2]/a[1]').click()\n",
    "    time.sleep(2)\n",
    "    driver.find_element_by_xpath('//*[@id=\"login-form\"]/article/div[4]/a[1]').click()\n",
    "    time.sleep(2)\n",
    "    \n",
    "    # id pw 입력\n",
    "#     clipboard_input('//*[@id=\"id\"]', login.get(\"id\"))\n",
    "#     clipboard_input('//*[@id=\"pw\"]', login.get(\"pw\"))\n",
    "#     driver.find_element_by_xpath('//*[@id=\"log.login\"]').click()\n",
    "#     time.sleep(2)\n",
    "\n",
    "    "
   ]
  },
  {
   "cell_type": "code",
   "execution_count": 21,
   "id": "8604a3bb",
   "metadata": {},
   "outputs": [
    {
     "name": "stderr",
     "output_type": "stream",
     "text": [
      "C:\\Users\\woong\\AppData\\Local\\Temp/ipykernel_11036/3540360524.py:17: DeprecationWarning: find_element_by_xpath is deprecated. Please use find_element(by=By.XPATH, value=xpath) instead\n",
      "  driver.find_element_by_xpath('//*[@id=\"gnb\"]/div[2]/a[1]').click()\n",
      "C:\\Users\\woong\\AppData\\Local\\Temp/ipykernel_11036/3540360524.py:19: DeprecationWarning: find_element_by_xpath is deprecated. Please use find_element(by=By.XPATH, value=xpath) instead\n",
      "  driver.find_element_by_xpath('//*[@id=\"login-form\"]/article/div[4]/a[1]').click()\n"
     ]
    }
   ],
   "source": [
    "aptgin_login()"
   ]
  },
  {
   "cell_type": "code",
   "execution_count": 23,
   "id": "2fd42d21",
   "metadata": {},
   "outputs": [
    {
     "name": "stderr",
     "output_type": "stream",
     "text": [
      "C:\\Users\\woong\\AppData\\Local\\Temp/ipykernel_11036/4230742874.py:1: DeprecationWarning: find_element_by_xpath is deprecated. Please use find_element(by=By.XPATH, value=xpath) instead\n",
      "  driver.find_element_by_xpath('//*[@id=\"lnb\"]/ul/li[5]/a').click()\n"
     ]
    }
   ],
   "source": [
    "driver.find_element_by_xpath('//*[@id=\"lnb\"]/ul/li[5]/a').click()\n",
    "time.sleep(10)"
   ]
  },
  {
   "cell_type": "code",
   "execution_count": 28,
   "id": "6b036789",
   "metadata": {},
   "outputs": [
    {
     "name": "stderr",
     "output_type": "stream",
     "text": [
      "C:\\Users\\woong\\AppData\\Local\\Temp/ipykernel_11036/2020835986.py:1: DeprecationWarning: find_element_by_xpath is deprecated. Please use find_element(by=By.XPATH, value=xpath) instead\n",
      "  driver.find_element_by_xpath('//*[@id=\"headerFilter\"]/div/div[1]/a').click()\n",
      "C:\\Users\\woong\\AppData\\Local\\Temp/ipykernel_11036/2020835986.py:3: DeprecationWarning: find_element_by_xpath is deprecated. Please use find_element(by=By.XPATH, value=xpath) instead\n",
      "  driver.find_element_by_xpath('//*[@id=\"headerFilter\"]/div/div[1]/fieldset/div/ul[1]/li[2]/button').click()\n",
      "C:\\Users\\woong\\AppData\\Local\\Temp/ipykernel_11036/2020835986.py:5: DeprecationWarning: find_element_by_xpath is deprecated. Please use find_element(by=By.XPATH, value=xpath) instead\n",
      "  driver.find_element_by_xpath('//*[@id=\"headerFilter\"]/div/div[1]/fieldset/div/ul[2]/li[6]/button').click()\n",
      "C:\\Users\\woong\\AppData\\Local\\Temp/ipykernel_11036/2020835986.py:7: DeprecationWarning: find_element_by_xpath is deprecated. Please use find_element(by=By.XPATH, value=xpath) instead\n",
      "  driver.find_element_by_xpath('//*[@id=\"headerFilter\"]/div/div[4]/button[2]').click()\n"
     ]
    }
   ],
   "source": [
    "driver.find_element_by_xpath('//*[@id=\"headerFilter\"]/div/div[1]/a').click()\n",
    "time.sleep(1)\n",
    "driver.find_element_by_xpath('//*[@id=\"headerFilter\"]/div/div[1]/fieldset/div/ul[1]/li[2]/button').click()\n",
    "time.sleep(1)\n",
    "driver.find_element_by_xpath('//*[@id=\"headerFilter\"]/div/div[1]/fieldset/div/ul[2]/li[6]/button').click()\n",
    "time.sleep(1)\n",
    "driver.find_element_by_xpath('//*[@id=\"headerFilter\"]/div/div[4]/button[2]').click()"
   ]
  }
 ],
 "metadata": {
  "kernelspec": {
   "display_name": "Python 3 (ipykernel)",
   "language": "python",
   "name": "python3"
  },
  "language_info": {
   "codemirror_mode": {
    "name": "ipython",
    "version": 3
   },
   "file_extension": ".py",
   "mimetype": "text/x-python",
   "name": "python",
   "nbconvert_exporter": "python",
   "pygments_lexer": "ipython3",
   "version": "3.9.7"
  }
 },
 "nbformat": 4,
 "nbformat_minor": 5
}
