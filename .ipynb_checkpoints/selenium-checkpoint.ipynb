{
 "cells": [
  {
   "cell_type": "code",
   "execution_count": 19,
   "id": "92a8aef5",
   "metadata": {},
   "outputs": [],
   "source": [
    "from selenium import webdriver\n",
    "import time"
   ]
  },
  {
   "cell_type": "code",
   "execution_count": 20,
   "id": "858af4b0",
   "metadata": {},
   "outputs": [
    {
     "name": "stderr",
     "output_type": "stream",
     "text": [
      "C:\\Users\\woong\\AppData\\Local\\Temp/ipykernel_21448/913636808.py:1: DeprecationWarning: executable_path has been deprecated, please pass in a Service object\n",
      "  driver = webdriver.Chrome('./chromedriver.exe')\n"
     ]
    }
   ],
   "source": [
    "driver = webdriver.Chrome('./chromedriver.exe')"
   ]
  },
  {
   "cell_type": "code",
   "execution_count": 21,
   "id": "2d0826a1",
   "metadata": {},
   "outputs": [],
   "source": [
    "url = 'https://www.google.com/'"
   ]
  },
  {
   "cell_type": "code",
   "execution_count": 22,
   "id": "a5df7a3e",
   "metadata": {},
   "outputs": [],
   "source": [
    "driver.get(url)"
   ]
  },
  {
   "cell_type": "code",
   "execution_count": 23,
   "id": "dddbe7d3",
   "metadata": {},
   "outputs": [
    {
     "name": "stderr",
     "output_type": "stream",
     "text": [
      "C:\\Users\\woong\\AppData\\Local\\Temp/ipykernel_21448/2265153476.py:1: DeprecationWarning: find_element_by_name is deprecated. Please use find_element(by=By.NAME, value=name) instead\n",
      "  element = driver.find_element_by_name('q')\n"
     ]
    }
   ],
   "source": [
    "element = driver.find_element_by_name('q')\n",
    "element.send_keys('개발자')\n",
    "element.submit()"
   ]
  },
  {
   "cell_type": "code",
   "execution_count": null,
   "id": "67a68fa9",
   "metadata": {},
   "outputs": [],
   "source": []
  }
 ],
 "metadata": {
  "kernelspec": {
   "display_name": "Python 3 (ipykernel)",
   "language": "python",
   "name": "python3"
  },
  "language_info": {
   "codemirror_mode": {
    "name": "ipython",
    "version": 3
   },
   "file_extension": ".py",
   "mimetype": "text/x-python",
   "name": "python",
   "nbconvert_exporter": "python",
   "pygments_lexer": "ipython3",
   "version": "3.9.7"
  }
 },
 "nbformat": 4,
 "nbformat_minor": 5
}
