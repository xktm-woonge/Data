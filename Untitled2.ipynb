{
 "cells": [
  {
   "cell_type": "code",
   "execution_count": null,
   "id": "dcaa3896",
   "metadata": {},
   "outputs": [],
   "source": [
    "import pandas as pd\n",
    "from sentence_transformers import SentenceTransformer\n",
    "from sklearn.metrics.pairwise import cosine_similarity"
   ]
  },
  {
   "cell_type": "code",
   "execution_count": null,
   "id": "7484cce9",
   "metadata": {},
   "outputs": [],
   "source": [
    "pip uninstall sentence-transformers"
   ]
  },
  {
   "cell_type": "code",
   "execution_count": 3,
   "id": "67acd1eb",
   "metadata": {},
   "outputs": [
    {
     "name": "stdout",
     "output_type": "stream",
     "text": [
      "Requirement already satisfied: sentence-transformers in c:\\users\\woong\\anaconda\\lib\\site-packages (2.2.0)\n",
      "Requirement already satisfied: torch>=1.6.0 in c:\\users\\woong\\anaconda\\lib\\site-packages (from sentence-transformers) (1.10.1)\n",
      "Requirement already satisfied: tqdm in c:\\users\\woong\\anaconda\\lib\\site-packages (from sentence-transformers) (4.62.3)\n",
      "Requirement already satisfied: sentencepiece in c:\\users\\woong\\anaconda\\lib\\site-packages (from sentence-transformers) (0.1.96)\n",
      "Requirement already satisfied: huggingface-hub in c:\\users\\woong\\anaconda\\lib\\site-packages (from sentence-transformers) (0.5.0)\n",
      "Requirement already satisfied: numpy in c:\\users\\woong\\anaconda\\lib\\site-packages (from sentence-transformers) (1.20.3)\n",
      "Requirement already satisfied: transformers<5.0.0,>=4.6.0 in c:\\users\\woong\\anaconda\\lib\\site-packages (from sentence-transformers) (4.17.0)\n",
      "Requirement already satisfied: scikit-learn in c:\\users\\woong\\anaconda\\lib\\site-packages (from sentence-transformers) (1.0.2)\n",
      "Requirement already satisfied: nltk in c:\\users\\woong\\anaconda\\lib\\site-packages (from sentence-transformers) (3.6.5)\n",
      "Requirement already satisfied: torchvision in c:\\users\\woong\\anaconda\\lib\\site-packages (from sentence-transformers) (0.11.2)\n",
      "Requirement already satisfied: scipy in c:\\users\\woong\\anaconda\\lib\\site-packages (from sentence-transformers) (1.7.1)\n",
      "Requirement already satisfied: typing_extensions in c:\\users\\woong\\anaconda\\lib\\site-packages (from torch>=1.6.0->sentence-transformers) (3.10.0.2)\n",
      "Requirement already satisfied: requests in c:\\users\\woong\\anaconda\\lib\\site-packages (from transformers<5.0.0,>=4.6.0->sentence-transformers) (2.26.0)\n",
      "Requirement already satisfied: sacremoses in c:\\users\\woong\\anaconda\\lib\\site-packages (from transformers<5.0.0,>=4.6.0->sentence-transformers) (0.0.49)\n",
      "Requirement already satisfied: regex!=2019.12.17 in c:\\users\\woong\\anaconda\\lib\\site-packages (from transformers<5.0.0,>=4.6.0->sentence-transformers) (2021.8.3)\n",
      "Requirement already satisfied: pyyaml>=5.1 in c:\\users\\woong\\anaconda\\lib\\site-packages (from transformers<5.0.0,>=4.6.0->sentence-transformers) (6.0)\n",
      "Requirement already satisfied: tokenizers!=0.11.3,>=0.11.1 in c:\\users\\woong\\anaconda\\lib\\site-packages (from transformers<5.0.0,>=4.6.0->sentence-transformers) (0.11.6)\n",
      "Requirement already satisfied: filelock in c:\\users\\woong\\appdata\\roaming\\python\\python39\\site-packages (from transformers<5.0.0,>=4.6.0->sentence-transformers) (3.0.12)\n",
      "Requirement already satisfied: packaging>=20.0 in c:\\users\\woong\\anaconda\\lib\\site-packages (from transformers<5.0.0,>=4.6.0->sentence-transformers) (21.0)\n",
      "Requirement already satisfied: colorama in c:\\users\\woong\\anaconda\\lib\\site-packages (from tqdm->sentence-transformers) (0.4.4)\n",
      "Requirement already satisfied: click in c:\\users\\woong\\anaconda\\lib\\site-packages (from nltk->sentence-transformers) (8.0.3)\n",
      "Requirement already satisfied: joblib in c:\\users\\woong\\anaconda\\lib\\site-packages (from nltk->sentence-transformers) (1.1.0)\n",
      "Requirement already satisfied: threadpoolctl>=2.0.0 in c:\\users\\woong\\anaconda\\lib\\site-packages (from scikit-learn->sentence-transformers) (2.2.0)\n",
      "Requirement already satisfied: pillow!=8.3.0,>=5.3.0 in c:\\users\\woong\\anaconda\\lib\\site-packages (from torchvision->sentence-transformers) (8.4.0)\n",
      "Requirement already satisfied: pyparsing>=2.0.2 in c:\\users\\woong\\anaconda\\lib\\site-packages (from packaging>=20.0->transformers<5.0.0,>=4.6.0->sentence-transformers) (3.0.4)\n",
      "Requirement already satisfied: idna<4,>=2.5 in c:\\users\\woong\\anaconda\\lib\\site-packages (from requests->transformers<5.0.0,>=4.6.0->sentence-transformers) (3.2)\n",
      "Requirement already satisfied: urllib3<1.27,>=1.21.1 in c:\\users\\woong\\anaconda\\lib\\site-packages (from requests->transformers<5.0.0,>=4.6.0->sentence-transformers) (1.26.7)\n",
      "Requirement already satisfied: charset-normalizer~=2.0.0 in c:\\users\\woong\\anaconda\\lib\\site-packages (from requests->transformers<5.0.0,>=4.6.0->sentence-transformers) (2.0.4)\n",
      "Requirement already satisfied: certifi>=2017.4.17 in c:\\users\\woong\\anaconda\\lib\\site-packages (from requests->transformers<5.0.0,>=4.6.0->sentence-transformers) (2021.10.8)\n",
      "Requirement already satisfied: six in c:\\users\\woong\\appdata\\roaming\\python\\python39\\site-packages (from sacremoses->transformers<5.0.0,>=4.6.0->sentence-transformers) (1.16.0)\n",
      "Note: you may need to restart the kernel to use updated packages.\n"
     ]
    }
   ],
   "source": [
    "pip install -U sentence-transformers"
   ]
  },
  {
   "cell_type": "code",
   "execution_count": null,
   "id": "37d9258a",
   "metadata": {},
   "outputs": [],
   "source": []
  }
 ],
 "metadata": {
  "kernelspec": {
   "display_name": "Python 3 (ipykernel)",
   "language": "python",
   "name": "python3"
  },
  "language_info": {
   "codemirror_mode": {
    "name": "ipython",
    "version": 3
   },
   "file_extension": ".py",
   "mimetype": "text/x-python",
   "name": "python",
   "nbconvert_exporter": "python",
   "pygments_lexer": "ipython3",
   "version": "3.9.7"
  }
 },
 "nbformat": 4,
 "nbformat_minor": 5
}
