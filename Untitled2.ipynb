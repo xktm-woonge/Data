{
 "cells": [
  {
   "cell_type": "code",
   "execution_count": 25,
   "id": "f63cd08b",
   "metadata": {},
   "outputs": [],
   "source": [
    "import requests\n",
    "import json\n",
    "import datetime"
   ]
  },
  {
   "cell_type": "code",
   "execution_count": 26,
   "id": "5ac4d739",
   "metadata": {
    "scrolled": true
   },
   "outputs": [],
   "source": [
    "vilage_weather_url = 'http://apis.data.go.kr/1360000/VilageFcstInfoService_2.0/getUltraSrtFcst?'\n",
    "\n",
    "service_key = \"\"\n",
    "\n",
    "today = datetime.datetime.today()\n",
    "base_date = today.strftime(\"%Y%m%d\") # \"20220307\" == 기준 날짜\n",
    "base_time = \"0800\" # 날씨 값\n",
    "\n",
    "nx = \"62\"\n",
    "ny = \"126\""
   ]
  },
  {
   "cell_type": "code",
   "execution_count": 27,
   "id": "67b2a2cd",
   "metadata": {},
   "outputs": [],
   "source": [
    "payload = \"serviceKey=\" + service_key + \"&\" +\\\n",
    "    \"dataType=json\" + \"&\" +\\\n",
    "    \"base_date=\" + base_date + \"&\" +\\\n",
    "    \"base_time=\" + base_time + \"&\" +\\\n",
    "    \"nx=\" + nx + \"&\" +\\\n",
    "    \"ny=\" + ny\n",
    "\n",
    "# 값 요청\n",
    "res = requests.get(vilage_weather_url + payload)\n",
    "\n",
    "items = res.json().get('response').get('body').get('items').get('item')"
   ]
  },
  {
   "cell_type": "code",
   "execution_count": 28,
   "id": "5fc0228d",
   "metadata": {},
   "outputs": [
    {
     "data": {
      "text/plain": [
       "{'response': {'header': {'resultCode': '00', 'resultMsg': 'NORMAL_SERVICE'},\n",
       "  'body': {'dataType': 'JSON',\n",
       "   'items': {'item': [{'baseDate': '20220307',\n",
       "      'baseTime': '0830',\n",
       "      'category': 'LGT',\n",
       "      'fcstDate': '20220307',\n",
       "      'fcstTime': '0900',\n",
       "      'fcstValue': '0',\n",
       "      'nx': 62,\n",
       "      'ny': 126},\n",
       "     {'baseDate': '20220307',\n",
       "      'baseTime': '0830',\n",
       "      'category': 'LGT',\n",
       "      'fcstDate': '20220307',\n",
       "      'fcstTime': '1000',\n",
       "      'fcstValue': '0',\n",
       "      'nx': 62,\n",
       "      'ny': 126},\n",
       "     {'baseDate': '20220307',\n",
       "      'baseTime': '0830',\n",
       "      'category': 'LGT',\n",
       "      'fcstDate': '20220307',\n",
       "      'fcstTime': '1100',\n",
       "      'fcstValue': '0',\n",
       "      'nx': 62,\n",
       "      'ny': 126},\n",
       "     {'baseDate': '20220307',\n",
       "      'baseTime': '0830',\n",
       "      'category': 'LGT',\n",
       "      'fcstDate': '20220307',\n",
       "      'fcstTime': '1200',\n",
       "      'fcstValue': '0',\n",
       "      'nx': 62,\n",
       "      'ny': 126},\n",
       "     {'baseDate': '20220307',\n",
       "      'baseTime': '0830',\n",
       "      'category': 'LGT',\n",
       "      'fcstDate': '20220307',\n",
       "      'fcstTime': '1300',\n",
       "      'fcstValue': '0',\n",
       "      'nx': 62,\n",
       "      'ny': 126},\n",
       "     {'baseDate': '20220307',\n",
       "      'baseTime': '0830',\n",
       "      'category': 'LGT',\n",
       "      'fcstDate': '20220307',\n",
       "      'fcstTime': '1400',\n",
       "      'fcstValue': '0',\n",
       "      'nx': 62,\n",
       "      'ny': 126},\n",
       "     {'baseDate': '20220307',\n",
       "      'baseTime': '0830',\n",
       "      'category': 'PTY',\n",
       "      'fcstDate': '20220307',\n",
       "      'fcstTime': '0900',\n",
       "      'fcstValue': '0',\n",
       "      'nx': 62,\n",
       "      'ny': 126},\n",
       "     {'baseDate': '20220307',\n",
       "      'baseTime': '0830',\n",
       "      'category': 'PTY',\n",
       "      'fcstDate': '20220307',\n",
       "      'fcstTime': '1000',\n",
       "      'fcstValue': '0',\n",
       "      'nx': 62,\n",
       "      'ny': 126},\n",
       "     {'baseDate': '20220307',\n",
       "      'baseTime': '0830',\n",
       "      'category': 'PTY',\n",
       "      'fcstDate': '20220307',\n",
       "      'fcstTime': '1100',\n",
       "      'fcstValue': '0',\n",
       "      'nx': 62,\n",
       "      'ny': 126},\n",
       "     {'baseDate': '20220307',\n",
       "      'baseTime': '0830',\n",
       "      'category': 'PTY',\n",
       "      'fcstDate': '20220307',\n",
       "      'fcstTime': '1200',\n",
       "      'fcstValue': '0',\n",
       "      'nx': 62,\n",
       "      'ny': 126}]},\n",
       "   'pageNo': 1,\n",
       "   'numOfRows': 10,\n",
       "   'totalCount': 60}}}"
      ]
     },
     "execution_count": 28,
     "metadata": {},
     "output_type": "execute_result"
    }
   ],
   "source": [
    "res.json()"
   ]
  },
  {
   "cell_type": "code",
   "execution_count": 41,
   "id": "4df47b86",
   "metadata": {},
   "outputs": [
    {
     "data": {
      "text/plain": [
       "{'tmp': '0', 'code': '0', 'state': '없음'}"
      ]
     },
     "execution_count": 41,
     "metadata": {},
     "output_type": "execute_result"
    }
   ],
   "source": [
    "data = dict()\n",
    "data['date'] = base_date\n",
    "\n",
    "weather_data = dict()\n",
    "for item in items:\n",
    "\n",
    "\n",
    "    # 기상상태\n",
    "    if item['category'] == 'PTY':\n",
    "        \n",
    "        weather_code = item['fcstValue']\n",
    "        \n",
    "        if weather_code == '1':\n",
    "            weather_state = '비'\n",
    "        elif weather_code == '2':\n",
    "            weather_state = '비/눈'\n",
    "        elif weather_code == '3':\n",
    "            weather_state = '눈'\n",
    "        elif weather_code == '4':\n",
    "            weather_state = '소나기'\n",
    "        else:\n",
    "            weather_state = '없음'\n",
    "        \n",
    "        weather_data['code'] = weather_code\n",
    "        weather_data['state'] = weather_state\n",
    "        \n",
    "    # 기온\n",
    "    weather_data['tmp'] = item['fcstValue']\n",
    "data['weather'] = weather_data\n",
    "data['weather']"
   ]
  }
 ],
 "metadata": {
  "kernelspec": {
   "display_name": "Python 3 (ipykernel)",
   "language": "python",
   "name": "python3"
  },
  "language_info": {
   "codemirror_mode": {
    "name": "ipython",
    "version": 3
   },
   "file_extension": ".py",
   "mimetype": "text/x-python",
   "name": "python",
   "nbconvert_exporter": "python",
   "pygments_lexer": "ipython3",
   "version": "3.9.7"
  }
 },
 "nbformat": 4,
 "nbformat_minor": 5
}
